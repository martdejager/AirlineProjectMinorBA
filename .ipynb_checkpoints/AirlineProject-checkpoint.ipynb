{
 "cells": [
  {
   "cell_type": "code",
   "execution_count": null,
   "id": "initial_id",
   "metadata": {
    "ExecuteTime": {
     "end_time": "2025-03-14T08:58:37.169950Z",
     "start_time": "2025-03-14T08:58:37.168165Z"
    },
    "collapsed": true
   },
   "outputs": [],
   "source": [
    "# Prerequisite imports\n",
    "import pandas as pd\n",
    "import numpy as np\n",
    "import matplotlib.pyplot as plt\n",
    "import seaborn as sns"
   ]
  },
  {
   "cell_type": "code",
   "execution_count": null,
   "id": "6c8b52c8a30c19bc",
   "metadata": {
    "ExecuteTime": {
     "end_time": "2025-03-14T08:58:39.246099Z",
     "start_time": "2025-03-14T08:58:39.138741Z"
    }
   },
   "outputs": [],
   "source": [
    "# Load the dataset\n",
    "df = pd.read_csv('Data/Invistico_Airline.csv')"
   ]
  },
  {
   "cell_type": "code",
   "execution_count": null,
   "id": "1a82e39a",
   "metadata": {
    "ExecuteTime": {
     "end_time": "2025-03-14T08:58:40.567589Z",
     "start_time": "2025-03-14T08:58:40.563068Z"
    }
   },
   "outputs": [],
   "source": [
    "print(df.head())"
   ]
  }
 ],
 "metadata": {
  "kernelspec": {
   "display_name": "base",
   "language": "python",
   "name": "python3"
  },
  "language_info": {
   "codemirror_mode": {
    "name": "ipython",
    "version": 3
   },
   "file_extension": ".py",
   "mimetype": "text/x-python",
   "name": "python",
   "nbconvert_exporter": "python",
   "pygments_lexer": "ipython3",
   "version": "3.12.4"
  }
 },
 "nbformat": 4,
 "nbformat_minor": 5
}
