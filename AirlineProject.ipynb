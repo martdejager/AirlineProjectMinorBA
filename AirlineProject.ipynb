{
 "cells": [
  {
   "cell_type": "markdown",
   "id": "bbfe0c78",
   "metadata": {},
   "source": [
    "# Import all the necessary libraries\n",
    "#### Run  this cell everytime an import is added"
   ]
  },
  {
   "cell_type": "code",
   "execution_count": null,
   "id": "initial_id",
   "metadata": {
    "ExecuteTime": {
     "end_time": "2025-03-14T08:58:37.169950Z",
     "start_time": "2025-03-14T08:58:37.168165Z"
    },
    "collapsed": true
   },
   "outputs": [],
   "source": [
    "# Prerequisite imports\n",
    "import pandas as pd\n",
    "import numpy as np\n",
    "import matplotlib.pyplot as plt\n",
    "import seaborn as sns\n",
    "import missingno as msno\n",
    "from imblearn.over_sampling import SMOTE\n",
    "from sklearn.ensemble import RandomForestClassifier, GradientBoostingClassifier\n",
    "from sklearn.linear_model import LogisticRegression\n",
    "from sklearn.model_selection import train_test_split, cross_val_score, RandomizedSearchCV\n",
    "from sklearn.metrics import accuracy_score,precision_score,recall_score,f1_score,ConfusionMatrixDisplay,classification_report\n",
    "from sklearn.preprocessing import LabelEncoder\n"
   ]
  },
  {
   "cell_type": "code",
   "execution_count": null,
   "id": "6c8b52c8a30c19bc",
   "metadata": {
    "ExecuteTime": {
     "end_time": "2025-03-14T08:58:39.246099Z",
     "start_time": "2025-03-14T08:58:39.138741Z"
    }
   },
   "outputs": [],
   "source": [
    "# Set the display options to show all the columns \n",
    "pd.set_option('display.max_columns', None)\n",
    "\n",
    "# Load the dataset\n",
    "df = pd.read_csv('Data/Invistico_Airline.csv')\n",
    "df.head(10)"
   ]
  },
  {
   "cell_type": "code",
   "execution_count": null,
   "id": "40717e4b",
   "metadata": {},
   "outputs": [],
   "source": [
    "# Show the shape of the dataset\n",
    "df.shape"
   ]
  },
  {
   "cell_type": "code",
   "execution_count": null,
   "id": "f62982b0",
   "metadata": {},
   "outputs": [],
   "source": [
    "# show the datatypes of the dataset\n",
    "df.info()"
   ]
  },
  {
   "cell_type": "code",
   "execution_count": null,
   "id": "29f5966a",
   "metadata": {},
   "outputs": [],
   "source": [
    "# Show some statistics of the dataset\n",
    "df.describe()"
   ]
  },
  {
   "cell_type": "code",
   "execution_count": null,
   "id": "5ed31365",
   "metadata": {},
   "outputs": [],
   "source": [
    "# Check for missing values\n",
    "df.isnull().sum()"
   ]
  },
  {
   "cell_type": "markdown",
   "id": "663cba2e",
   "metadata": {},
   "source": [
    "> Here we can see that there are 393 missing values in the 'Arrival Delay in Minutes' column"
   ]
  },
  {
   "cell_type": "code",
   "execution_count": null,
   "id": "e160b97a",
   "metadata": {},
   "outputs": [],
   "source": [
    "# Plotting a missingo matrix to visualize the missing values\n",
    "# Note: Running this function will return a ValueError, this is because of a update in matolplib. It will still show the graph but without the column labels. \n",
    "#msno.matrix(df)"
   ]
  },
  {
   "cell_type": "code",
   "execution_count": null,
   "id": "323ef857",
   "metadata": {},
   "outputs": [],
   "source": [
    "# Dropping columns with NaN values\n",
    "df = df.dropna()"
   ]
  },
  {
   "cell_type": "code",
   "execution_count": null,
   "id": "82585a56",
   "metadata": {},
   "outputs": [],
   "source": [
    "# Check for duplicates in the dataset\n",
    "df.duplicated().sum()"
   ]
  },
  {
   "cell_type": "markdown",
   "id": "d301337d",
   "metadata": {},
   "source": [
    "> Here we can see that there are no duplicate values in the dataset"
   ]
  },
  {
   "cell_type": "markdown",
   "id": "9629ea78",
   "metadata": {},
   "source": [
    "# Data understanding"
   ]
  },
  {
   "cell_type": "markdown",
   "id": "eeb49018",
   "metadata": {},
   "source": [
    "### Check the unique values in the categorical columns"
   ]
  },
  {
   "cell_type": "code",
   "execution_count": null,
   "id": "0684a5fc",
   "metadata": {},
   "outputs": [],
   "source": [
    "columns_to_check = ['satisfaction', 'Customer Type', 'Type of Travel', 'Class']\n",
    "for column in columns_to_check:\n",
    "    print(f\"Unique values in '{column}' : {df[column].unique()}\")"
   ]
  },
  {
   "cell_type": "markdown",
   "id": "162aa91b",
   "metadata": {},
   "source": [
    "# Exploratory data analysis\n",
    "### Plot all the categorical columns with 'satisfaction' as its hue so that we can get a sense of their relation"
   ]
  },
  {
   "cell_type": "code",
   "execution_count": null,
   "id": "a13c538d",
   "metadata": {},
   "outputs": [],
   "source": [
    "# Define categorical columns\n",
    "categorical_columns = ['satisfaction', 'Customer Type', 'Type of Travel', 'Class']\n",
    "\n",
    "# Set up the figure size\n",
    "fig, axes = plt.subplots(1, len(categorical_columns), figsize=(20, 5))\n",
    "\n",
    "# Define different color palettes for each plot\n",
    "color_palettes = ['Blues', 'Greens', 'Reds', 'Purples']\n",
    "\n",
    "# Loop through each categorical column and create a bar plot\n",
    "for i, col in enumerate(categorical_columns):\n",
    "    sns.countplot(x=df[col], ax=axes[i], hue=df['satisfaction'], palette=color_palettes[i]),\n",
    "    axes[i].set_title(f'Distribution of {col}')\n",
    "    axes[i].set_xlabel(col)\n",
    "    axes[i].set_ylabel('Count')\n",
    "\n",
    "plt.tight_layout()\n",
    "plt.show()"
   ]
  },
  {
   "cell_type": "markdown",
   "id": "c656ac9c",
   "metadata": {},
   "source": [
    "> What we see per plot\n",
    "+  Customer satisfaction is roughly split 60 / 40 in favour of satisfaction.\n",
    "+  As expected, disloyal customers have a high dissatifaction rate. Surprisingly, loyal customers also have a high dissatisfaction rate. More than half of the loyal customers.\n",
    "+  When looking a the type of travel, the majority of travel is done as 'Business travel' where around 70% is satisfied and 30#\n",
    "+  Here we can see that the 'eco' class has the highest dissatisfaction rate of all three travel classes. 'Business' class gets a high satisfaction rate. 'Eco plus', edges just towards a majority of dissatisfied customers."
   ]
  },
  {
   "cell_type": "code",
   "execution_count": null,
   "id": "4c7ad5f9",
   "metadata": {},
   "outputs": [],
   "source": [
    "le=LabelEncoder()\n",
    "df['satisfaction']= le.fit_transform(df['satisfaction'])\n",
    "df['Customer Type']=le.fit_transform(df['Customer Type'])\n",
    "df['Type of Travel']=le.fit_transform(df['Type of Travel'])\n",
    "df['Class']=le.fit_transform(df['Class'])"
   ]
  },
  {
   "cell_type": "code",
   "execution_count": null,
   "id": "d5e42b74",
   "metadata": {},
   "outputs": [],
   "source": [
    "plt.figure(figsize=(20,10))\n",
    "sns.heatmap(df.corr(), annot=True, fmt=\".2f\", cmap='coolwarm')\n",
    "plt.show()"
   ]
  },
  {
   "cell_type": "code",
   "execution_count": null,
   "id": "2c7c53c5",
   "metadata": {},
   "outputs": [],
   "source": [
    "def train_test_split_data(df, target, random_state, test_size):\n",
    "    X_train,y_train,X_test,y_test= train_test_split(df.drop([target], axis=1),\n",
    "                                                    df[target],\n",
    "                                                    random_state=random_state,\n",
    "                                                    test_size=0.20,\n",
    "                                                    stratify=df[target])\n",
    "    return X_train, X_test, y_train,y_test\n",
    "\n",
    "X_train, y_train, X_test, y_test=  train_test_split_data(df, target='satisfaction', random_state=65, test_size=0.20)\n",
    "\n",
    "X_train.shape, y_train.shape, X_test.shape, y_test.shape"
   ]
  },
  {
   "cell_type": "code",
   "execution_count": null,
   "id": "b786a21f",
   "metadata": {},
   "outputs": [],
   "source": [
    "sm= SMOTE(sampling_strategy='minority', random_state=42)\n",
    "X_train_smote, y_train_smote= sm.fit_resample(X_train, y_train)\n",
    "X_train_smote.shape, y_train_smote.shape"
   ]
  },
  {
   "cell_type": "code",
   "execution_count": null,
   "id": "fc098e3f",
   "metadata": {},
   "outputs": [],
   "source": [
    "lr = LogisticRegression(max_iter=10000, random_state=56)\n",
    "lr.fit(X_train, y_train)\n",
    "y_pred = lr.predict(X_test)\n",
    "\n",
    "print(\"----------------------\")\n",
    "\n",
    "accuracy_scores=[]\n",
    "f1_scores=[]\n",
    "precision_scores=[]\n",
    "recall_scores=[]\n",
    "\n",
    "accuracy_scores.append(accuracy_score(y_pred, y_test))\n",
    "f1_scores.append(f1_score(y_pred, y_test))\n",
    "precision_scores.append(precision_score(y_pred, y_test))\n",
    "recall_scores.append(recall_score(y_pred, y_test))\n",
    "\n",
    "# Print the Results\n",
    "print(f\"Accuracy:{accuracy_scores}\")\n",
    "print(f\"F1-Score:{f1_scores}\")\n",
    "print(f\"Precision:{precision_scores}\") \n",
    "print(f\"Recall:{recall_scores}\")\n",
    "\n",
    "print(\"-------------------------------\")\n",
    "print(\"Classifiaction Reoprt\")\n",
    "print(\"-------------------------------\")\n",
    "print(classification_report(y_test,y_pred,digits=3))\n",
    "print(\"Confusion_Matrix\")\n",
    "ConfusionMatrixDisplay.from_predictions(y_test,y_pred,cmap=\"Reds\")\n",
    "plt.show()"
   ]
  },
  {
   "cell_type": "code",
   "execution_count": null,
   "id": "807d1d87",
   "metadata": {},
   "outputs": [],
   "source": [
    "rf=RandomForestClassifier(random_state=42)\n",
    "\n",
    "hyper_params = {\"max_features\": [3,10],\n",
    "                \"min_samples_split\":[2, 10],\n",
    "                \"min_samples_leaf\":[1, 10],\n",
    "                \"n_estimators\":[100, 300],\n",
    "                \"criterion\":[\"gini\"]}\n",
    "    \n",
    "model = RandomizedSearchCV(\n",
    "    rf, hyper_params, cv=3, scoring=\"f1_macro\", n_jobs=-1, n_iter=20, random_state=42\n",
    ")\n",
    "model.fit(X_train_smote,y_train_smote)\n",
    "y_pred= model.predict(X_test)\n",
    "print(model.best_estimator_)\n",
    "\n",
    "print(\"----------------------\")\n",
    "\n",
    "accuracy_scores=[]\n",
    "f1_scores=[]\n",
    "precision_scores=[]\n",
    "recall_scores=[]\n",
    "\n",
    "\n",
    "accuracy_scores.append(accuracy_score(y_pred, y_test))\n",
    "f1_scores.append(f1_score(y_pred, y_test))\n",
    "precision_scores.append(precision_score(y_pred, y_test))\n",
    "recall_scores.append(recall_score(y_pred, y_test))\n",
    "\n",
    "# Print the Results\n",
    "print(f\"Accuracy:{accuracy_scores}\")\n",
    "print(f\"F1-Score:{f1_scores}\")\n",
    "print(f\"Precision:{precision_scores}\") \n",
    "print(f\"Recall:{recall_scores}\")\n",
    "\n",
    "print(\"-------------------------------\")\n",
    "print(\"Classifiaction Reoprt\")\n",
    "print(\"-------------------------------\")\n",
    "print(classification_report(y_test,y_pred,digits=3))\n",
    "print(\"Confusion_Matrix\")\n",
    "ConfusionMatrixDisplay.from_predictions(y_test,y_pred,cmap=\"Blues\")\n",
    "plt.show()"
   ]
  },
  {
   "cell_type": "code",
   "execution_count": null,
   "id": "5daa2eb8",
   "metadata": {},
   "outputs": [],
   "source": [
    "gb=GradientBoostingClassifier(random_state=42)\n",
    "\n",
    "hyper_params = {\"max_features\": [3,10],\n",
    "                \"min_samples_split\":[2, 10],\n",
    "                \"min_samples_leaf\":[1, 10],\n",
    "                \"n_estimators\":[100, 300],\n",
    "                \"learning_rate\":[0.05, 0.1, 0.2]}\n",
    "\n",
    "model = RandomizedSearchCV(\n",
    "    gb, hyper_params, cv=3, scoring=\"f1_macro\", n_jobs=-1, n_iter=20, random_state=42\n",
    ")\n",
    "model.fit(X_train_smote,y_train_smote)\n",
    "y_pred= model.predict(X_test)\n",
    "print(model.best_estimator_)\n",
    "\n",
    "print(\"----------------------\")\n",
    "\n",
    "accuracy_scores=[]\n",
    "f1_scores=[]\n",
    "precision_scores=[]\n",
    "recall_scores=[]\n",
    "\n",
    "\n",
    "accuracy_scores.append(accuracy_score(y_pred, y_test))\n",
    "f1_scores.append(f1_score(y_pred, y_test))\n",
    "precision_scores.append(precision_score(y_pred, y_test))\n",
    "recall_scores.append(recall_score(y_pred, y_test))\n",
    "\n",
    "# Print the Results\n",
    "print(f\"Accuracy:{accuracy_scores}\")\n",
    "print(f\"F1-Score:{f1_scores}\")\n",
    "print(f\"Precision:{precision_scores}\") \n",
    "print(f\"Recall:{recall_scores}\")\n",
    "\n",
    "print(\"-------------------------------\")\n",
    "print(\"Classifiaction Reoprt\")\n",
    "print(\"-------------------------------\")\n",
    "print(classification_report(y_test,y_pred,digits=3))\n",
    "print(\"Confusion_Matrix\")\n",
    "ConfusionMatrixDisplay.from_predictions(y_test,y_pred,cmap=\"Greens\")\n",
    "plt.show()"
   ]
  },
  {
   "cell_type": "code",
   "execution_count": null,
   "id": "9c5b9642",
   "metadata": {},
   "outputs": [],
   "source": []
  }
 ],
 "metadata": {
  "kernelspec": {
   "display_name": "base",
   "language": "python",
   "name": "python3"
  },
  "language_info": {
   "codemirror_mode": {
    "name": "ipython",
    "version": 3
   },
   "file_extension": ".py",
   "mimetype": "text/x-python",
   "name": "python",
   "nbconvert_exporter": "python",
   "pygments_lexer": "ipython3",
   "version": "3.12.4"
  }
 },
 "nbformat": 4,
 "nbformat_minor": 5
}
